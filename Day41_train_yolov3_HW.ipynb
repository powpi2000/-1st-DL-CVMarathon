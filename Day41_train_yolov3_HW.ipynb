{
  "nbformat": 4,
  "nbformat_minor": 0,
  "metadata": {
    "accelerator": "GPU",
    "colab": {
      "name": "Day41_train_yolov3_HW.ipynb",
      "provenance": [],
      "collapsed_sections": [],
      "include_colab_link": true
    },
    "kernelspec": {
      "display_name": "Python 3",
      "language": "python",
      "name": "python3"
    },
    "language_info": {
      "codemirror_mode": {
        "name": "ipython",
        "version": 3
      },
      "file_extension": ".py",
      "mimetype": "text/x-python",
      "name": "python",
      "nbconvert_exporter": "python",
      "pygments_lexer": "ipython3",
      "version": "3.6.1"
    }
  },
  "cells": [
    {
      "cell_type": "markdown",
      "metadata": {
        "id": "view-in-github",
        "colab_type": "text"
      },
      "source": [
        "<a href=\"https://colab.research.google.com/github/powpi2000/1st-DL-CVMarathon/blob/master/Day41_train_yolov3_HW.ipynb\" target=\"_parent\"><img src=\"https://colab.research.google.com/assets/colab-badge.svg\" alt=\"Open In Colab\"/></a>"
      ]
    },
    {
      "cell_type": "markdown",
      "metadata": {
        "colab_type": "text",
        "id": "CG77DrrB2CrU"
      },
      "source": [
        "## 作業\n",
        "\n",
        "1. 如何使用已經訓練好的模型？\n",
        "2. 依照 https://github.com/qqwweee/keras-yolo3 的程式碼，請敘述，訓練模型時，資料集的格式是什麼？具體一點的說，要提供什麼格式的文件來描述資料集的圖片以及 bboxes 的信息呢？\n",
        "\n",
        "\n",
        "\n"
      ]
    },
    {
      "cell_type": "code",
      "metadata": {
        "colab_type": "code",
        "id": "NCEP-DG0VxlV",
        "colab": {}
      },
      "source": [
        "%tensorflow_version 1.x # 確保 colob 中使用的 tensorflow 是 1.x 版本而不是 tensorflow 2\n",
        "import tensorflow as tf\n",
        "print(tf.__version__)"
      ],
      "execution_count": 0,
      "outputs": []
    },
    {
      "cell_type": "code",
      "metadata": {
        "colab_type": "code",
        "id": "eXT7SQe0KQxv",
        "colab": {}
      },
      "source": [
        "pip install keras==2.2.4 # 需要安裝 keras 2.2.4 的版本"
      ],
      "execution_count": 0,
      "outputs": []
    },
    {
      "cell_type": "code",
      "metadata": {
        "colab_type": "code",
        "id": "vELO-PTVxAtm",
        "colab": {}
      },
      "source": [
        "from google.colab import drive \n",
        "drive.mount('/content/gdrive') # 將 google drive 掛載在 colob，\n",
        "# 下載基於 keras 的 yolov3 程式碼\n",
        "%cd 'gdrive/My Drive'\n",
        "# !git clone https://github.com/qqwweee/keras-yolo3 # 如果之前已經下載過就可以註解掉\n",
        "%cd keras-yolo3"
      ],
      "execution_count": 0,
      "outputs": []
    },
    {
      "cell_type": "code",
      "metadata": {
        "colab_type": "code",
        "id": "k0MyCUeRuARA",
        "colab": {}
      },
      "source": [
        "from PIL import Image\n",
        "image = Image.open('dog.jpg') "
      ],
      "execution_count": 0,
      "outputs": []
    },
    {
      "cell_type": "markdown",
      "metadata": {
        "id": "MC-trqftC7s-",
        "colab_type": "text"
      },
      "source": [
        "\n",
        "\n",
        "1.   下載權重檔案 並且載入模型 （convert.py 可以轉檔）\n",
        "2.   圖片, box 的左上角 (x, y), box 的右下角 (x, y), 種類代碼\n",
        "\n"
      ]
    }
  ]
}